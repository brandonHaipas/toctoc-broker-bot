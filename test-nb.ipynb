{
 "cells": [
  {
   "cell_type": "markdown",
   "metadata": {},
   "source": [
    "# Test Notebook"
   ]
  },
  {
   "cell_type": "markdown",
   "metadata": {},
   "source": [
    "notebook for testing the toctoc api and prompts for gpt"
   ]
  },
  {
   "cell_type": "code",
   "execution_count": 123,
   "metadata": {},
   "outputs": [
    {
     "name": "stdout",
     "output_type": "stream",
     "text": [
      "The dotenv extension is already loaded. To reload it, use:\n",
      "  %reload_ext dotenv\n",
      "{\"status\":\"ok\",\"statusCode\":200,\"message\":\"\",\"docs\":[{\"_id\":\"6774f7978b2ddfa7e911a581\",\"address\":{\"lat\":-33.4187,\"long\":-70.5855,\"communeName\":\"Las Condes\",\"street\":\"Townhouse proyecto Net Zero en Málaga, El Golf  \"},\"area\":{\"balcony\":0,\"constructed\":0,\"land\":231.4,\"usable\":163.4},\"distance\":353.2404633197919,\"operationFamily\":\"Venta Usado\",\"propertyFamilyType\":\"Casas\",\"price\":24490,\"salableArea\":163.4,\"ufm2\":149.87760097919215,\"publicationDate\":\"2024-12-16T00:00:00.000Z\"},{\"_id\":\"6774f7978b2ddfa7e911a57f\",\"address\":{\"lat\":-33.4189,\"long\":-70.5867,\"communeName\":\"Las Condes\",\"street\":\"Moderno y vanguardista Townhouse en El Golf  \"},\"area\":{\"balcony\":0,\"constructed\":0,\"land\":233.1,\"usable\":174.38},\"distance\":280.5717238235065,\"operationFamily\":\"Venta Usado\",\"propertyFamilyType\":\"Casas\",\"price\":24800,\"salableArea\":174.38,\"ufm2\":142.21814428260123,\"publicationDate\":\"2024-12-16T00:00:00.000Z\"},{\"_id\":\"6774f7e38b2ddfa7e912027a\",\"address\":{\"lat\":-33.4156931,\"long\":-70.5852874,\"communeName\":\"Las Condes\",\"street\":\"ASTURIAS. CERCA DEL METRO ESCUELA MILITAR 0 \"},\"area\":{\"balcony\":10,\"constructed\":100,\"land\":110,\"usable\":0},\"distance\":354.55435683878,\"operationFamily\":\"Venta Usado\",\"propertyFamilyType\":\"Casas\",\"price\":5000,\"salableArea\":100,\"ufm2\":50,\"publicationDate\":\"2024-12-11T00:00:00.000Z\"},{\"_id\":\"6774f7e38b2ddfa7e91200b4\",\"address\":{\"lat\":-33.4173661,\"long\":-70.5847604,\"communeName\":\"Las Condes\",\"street\":\"ASTURIAS 0 \"},\"area\":{\"balcony\":8,\"constructed\":60,\"land\":70,\"usable\":0},\"distance\":371.7799127635532,\"operationFamily\":\"Venta Usado\",\"propertyFamilyType\":\"Casas\",\"price\":2200,\"salableArea\":60,\"ufm2\":36.666666666666664,\"publicationDate\":\"2024-12-10T00:00:00.000Z\"},{\"_id\":\"6774f7e38b2ddfa7e911fe00\",\"address\":{\"lat\":-33.4157361,\"long\":-70.5857595,\"communeName\":\"Las Condes\",\"street\":\"ASTURIAS. CERCA DEL METRO ESCUELA MILITAR 0 \"},\"area\":{\"balcony\":10,\"constructed\":100,\"land\":110,\"usable\":0},\"distance\":313.12449591265965,\"operationFamily\":\"Venta Usado\",\"propertyFamilyType\":\"Casas\",\"price\":2200,\"salableArea\":100,\"ufm2\":22,\"publicationDate\":\"2024-12-09T00:00:00.000Z\"},{\"_id\":\"6774f7d78b2ddfa7e911fa73\",\"address\":{\"lat\":-33.4161875,\"long\":-70.5856307,\"communeName\":\"Las Condes\",\"street\":\"ASTURIAS. CERCA DEL METRO ESCUELA MILITAR 0 \"},\"area\":{\"balcony\":5,\"constructed\":60,\"land\":65,\"usable\":0},\"distance\":304.4963634954905,\"operationFamily\":\"Venta Usado\",\"propertyFamilyType\":\"Casas\",\"price\":2200,\"salableArea\":60,\"ufm2\":36.666666666666664,\"publicationDate\":\"2024-12-06T00:00:00.000Z\"},{\"_id\":\"6774f7808b2ddfa7e91181ec\",\"address\":{\"lat\":-33.4193672,\"long\":-70.58952289999999,\"communeName\":\"Las Condes\",\"street\":\"Presidente Errazuriz / Gertrudis Echeñique/ COLEGIOS, VERBO DIVINO Y VILLA MARIA - -\"},\"area\":{\"balcony\":0,\"constructed\":0,\"land\":236,\"usable\":170},\"distance\":268.5763865573112,\"operationFamily\":\"Venta Usado\",\"propertyFamilyType\":\"Casas\",\"price\":23300,\"salableArea\":170,\"ufm2\":137.05882352941177,\"publicationDate\":\"2024-12-06T00:00:00.000Z\"}],\"limit\":7,\"page\":1,\"totalDocs\":192,\"totalPages\":28}\n"
     ]
    }
   ],
   "source": [
    "%load_ext dotenv\n",
    "%dotenv\n",
    "%run db.ipynb\n",
    "%run download_json.ipynb"
   ]
  },
  {
   "cell_type": "code",
   "execution_count": 124,
   "metadata": {},
   "outputs": [],
   "source": [
    "sys_prompt = \"\"\"\n",
    "You are a helpful customer support assistant for the TOCTOC site. Use the supplied tool to assist the user efficiently.  \n",
    "Your main goal is to identify the customer's intent, which can be one of the following:  \n",
    "- **Buscar propiedad**: The customer is interested in searching for a property to buy or rent.  \n",
    "- **Tasar propiedad**: The customer wants to estimate the value of their property.  \n",
    "- **Financiar**: The customer is interested in obtaining financial assistance, like a mortgage.  \n",
    "\n",
    "After identifying the intent, use the single tool, `get_properties`, to assist the user by filling in the appropriate parameters based on the context of the conversation.  \n",
    "\n",
    "### Tool Functionality Breakdown:  \n",
    "1. **`intent` and `workflow`**:  \n",
    "   - Define the overall purpose of the customer's request.  \n",
    "   - Use `intent` for the high-level intent (`Buscar propiedad`, `Tasar propiedad`, `Financiar`).  \n",
    "   - Use `workflow` for simplified versions (`Buscar`, `Tasar`, `Hipotecario`).\n",
    "\n",
    "2. **Search and Responses**:  \n",
    "   - Use the **`search`** parameter to input the customer's most recent message.  \n",
    "   - Use **`customResponse`** for the bot's latest message in response to the customer.  \n",
    "\n",
    "3. **Region and Commune**:  \n",
    "   - Populate the **`region`** and **`city`** parameters based on the customer's inputs.  \n",
    "   - If the user mentions only the **commune**, infer the **region** using your knowledge of Chilean geography.\n",
    "\n",
    "4. **Attributes for Property Search**:  \n",
    "   - For `Buscar propiedad`, filter as much as possible based on the customer's preferences, using the `response` attribute to capture values such as:  \n",
    "     - **`commune`, `region`, `typeOfProperty`, `bedrooms`, `bathrooms`, `priceMin`, `priceMax`, etc.**  \n",
    "\n",
    "5. **Clarifying Missing Information**:  \n",
    "   - Use the `questions` attribute to identify missing fields where further clarification is needed.  \n",
    "   - For example, if `commune` is missing in the `response`, set `questions` with `{'key': 'commune', 'value': false}`.\n",
    "\n",
    "6. **Finalizing the Interaction**:  \n",
    "   - Use the **`isFinished`** parameter:  \n",
    "     - Set it to `True` when the conversation is complete (e.g., when all necessary inputs for `Buscar propiedad`, `Tasar propiedad`, or `Financiar` have been provided).  \n",
    "     - Otherwise, keep it `False` to continue the dialogue.\n",
    "\n",
    "### Guidelines for Usage:  \n",
    "- Always aim to narrow down the customer's request as much as possible, particularly for **Buscar propiedad**.  \n",
    "- If the user mentions a **commune** or a **region**, ensure these fields are reflected in the tool.  \n",
    "- When enough information has been gathered, finalize the workflow and confirm the conversation is finished (`isFinished: True`).  \n",
    "\n",
    "### Examples of Interaction:  \n",
    "1. **For Buscar propiedad**:  \n",
    "   - Customer: \"Quiero buscar una casa en Ñuñoa.\"  \n",
    "   - Tool Call:  \n",
    "     ```json\n",
    "     {\n",
    "       \"city\": \"Ñuñoa\",\n",
    "       \"region\": \"Región Metropolitana de Santiago\",\n",
    "       \"search\": \"Quiero buscar una casa en Ñuñoa.\",\n",
    "       \"customResponse\": \"Entendido, estoy buscando propiedades en Ñuñoa.\",\n",
    "       \"intent\": \"Buscar propiedad\",\n",
    "       \"workflow\": \"Buscar\",\n",
    "       \"response\": [\n",
    "         {\"key\": \"commune\", \"value\": \"Ñuñoa\"},\n",
    "         {\"key\": \"region\", \"value\": \"Región Metropolitana de Santiago\"}\n",
    "       ],\n",
    "       \"questions\": [\n",
    "         {\"key\": \"typeOfProperty\", \"value\": false},\n",
    "         {\"key\": \"priceMax\", \"value\": false}\n",
    "       ],\n",
    "       \"isFinished\": false\n",
    "     }\n",
    "     ```\n",
    "\n",
    "2. **When the conversation ends**:  \n",
    "   - If all fields have been clarified and the intent fulfilled:  \n",
    "     ```json\n",
    "     {\n",
    "       \"city\": \"Ñuñoa\",\n",
    "       \"region\": \"Región Metropolitana de Santiago\",\n",
    "       \"search\": \"Quiero buscar una casa en Ñuñoa.\",\n",
    "       \"customResponse\": \"Perfecto, he encontrado propiedades que cumplen con tus requisitos.\",\n",
    "       \"intent\": \"Buscar propiedad\",\n",
    "       \"workflow\": \"Buscar\",\n",
    "       \"response\": [\n",
    "         {\"key\": \"commune\", \"value\": \"Ñuñoa\"},\n",
    "         {\"key\": \"region\", \"value\": \"Región Metropolitana de Santiago\"},\n",
    "         {\"key\": \"typeOfProperty\", \"value\": \"Casa\"},\n",
    "         {\"key\": \"priceMax\", \"value\": \"200000000\"}\n",
    "       ],\n",
    "       \"questions\": [],\n",
    "       \"isFinished\": true\n",
    "     }\n",
    "     ```\n",
    "\n",
    "By following these instructions, the tool should streamline the process of identifying customer needs and generating precise responses.\n",
    "\n",
    "      \"\"\""
   ]
  },
  {
   "cell_type": "code",
   "execution_count": 92,
   "metadata": {},
   "outputs": [],
   "source": [
    "tools = [\n",
    "  {\n",
    "      \"type\": \"function\",\n",
    "      \"function\": {\n",
    "\n",
    "          \"name\": \"get_properties\",\n",
    "          \"parameters\": {\n",
    "              \"type\": \"object\",\n",
    "              \"properties\": {\n",
    "                  \"city\": {\"type\": \"string\",\n",
    "                                           \"description\": \"commune specified by customer.\"},\n",
    "                  \"region\":{\"type\": \"string\",\n",
    "                            \"enum\":[\n",
    "                                 \"Región de Arica y Parinacota\",\n",
    "                                \"Región de Tarapacá\",\n",
    "                                \"Región de Antofagasta\",\n",
    "                                \"Región de Atacama\",\n",
    "                                \"Región de Coquimbo\",\n",
    "                                \"Región de Valparaíso\",\n",
    "                                \"Región Metropolitana de Santiago\",\n",
    "                                \"Región del Libertador Gral. Bernardo O'Higgins\",\n",
    "                                \"Región del Maule\",\n",
    "                                \"Región de Ñuble\",\n",
    "                                \"Región del Biobío\",\n",
    "                                \"Región de La Araucanía\",\n",
    "                                \"Región de Los Ríos\",\n",
    "                                \"Región de Los Lagos\",\n",
    "                                \"Región Aysén del G. Carlos Ibáñez del Campo\",\n",
    "                                \"Región de Magallanes y de la Antártica Chilena\"\n",
    "                            ],\n",
    "                                      \"description\": \"Geographical Region, if not specified provide the region that you think the customer is refferring to. Remeber, regions of Chile\"},\n",
    "                  \"search\": {\"type\": \"string\",\n",
    "                                           \"description\": \"Is the lattest message submited by the user\"},\n",
    "                  \"customResponse\": {\n",
    "                      \"type\": \"string\",\n",
    "                      \"description\": \"Latest message sent by the bot.\"\n",
    "                  },\n",
    "                  \"intent\":{\n",
    "                      \"type\": \"string\",\n",
    "                      \"description\": \"The intent of the customer in this conversation, it can be 'Buscar propiedad', 'Financiar' or 'Tasar propiedad\"\n",
    "                  },\n",
    "                  \"workflow\": {\n",
    "                      \"type\":\"string\",\n",
    "                      \"description\": \"Simpler version of intent, for the intent 'Buscar propiedad' is 'Buscar', for 'Financiar' is 'Hipotecario and for 'Tasar propiedad' is 'Tasar'.\"\n",
    "                  },\n",
    "                  \"response\":{\n",
    "                      \"type\": \"array\",\n",
    "                      \"items\":{ \"type\":  \"object\",\n",
    "                              \"properties\":{\n",
    "                                  \"key\":{\"type\":\"string\",\n",
    "                                         \"enum\": [\n",
    "                                            \"commune\",\n",
    "                                            \"region\",\n",
    "                                            \"typeOfProperty\",\n",
    "                                            \"typeOfOperation\",\n",
    "                                            \"bedrooms\",\n",
    "                                            \"bathrooms\",\n",
    "                                            \"parking\",\n",
    "                                            \"storage\",\n",
    "                                            \"area\",\n",
    "                                            \"priceMax\",\n",
    "                                            \"priceMin\",\n",
    "                                            \"petFriendly\",\n",
    "                                            ]},\n",
    "                                  \"value\":{\"type\":\"string\"}}},\n",
    "                      \"description\": \"Each element has a dictionary with a 'key' as an attribute and a 'value' parameter, that is the value for the key. For example: \\\n",
    "                          {'key': 'commune', 'value': 'Huechuraba'}\"\n",
    "                      },\n",
    "                  \"questions\":{\n",
    "                      \"type\": \"array\",\n",
    "                      \"items\":{ \"type\":  \"object\",\n",
    "                              \"properties\":{\n",
    "                                  \"key\":{\"type\":\"string\",\n",
    "                                         \"enum\": [\n",
    "                                            \"commune\",\n",
    "                                            \"region\",\n",
    "                                            \"typeOfProperty\",\n",
    "                                            \"typeOfOperation\",\n",
    "                                            \"bedrooms\",\n",
    "                                            \"bathrooms\",\n",
    "                                            \"parking\",\n",
    "                                            \"storage\",\n",
    "                                            \"area\",\n",
    "                                            \"priceMax\",\n",
    "                                            \"priceMin\",\n",
    "                                            \"petFriendly\",\n",
    "                                            ]},\n",
    "                                  \"value\":{\"type\":\"boolean\"}}},\n",
    "                      \"description\": \"Each element has a dictionary with a 'key' as an attribute and a 'value' parameter is true if the response has a value o either \\\n",
    "                          is false if it has an empty string. For example: \\\n",
    "                          {'key': 'commune', 'value': true} \\\n",
    "                          or if in response does not have a value for commune,h it would be:\\\n",
    "                          {'key': 'commune', 'value': false}\"\n",
    "                  },\n",
    "                  \"isFinished\": {\n",
    "                        \"type\": \"boolean\",\n",
    "                        \"description\": \"True if the conversation is finished, False otherwise.\"\n",
    "                    }\n",
    "              },\n",
    "              \"additionalProperties\": False,\n",
    "          },\n",
    "      },\n",
    "  },\n",
    "]"
   ]
  },
  {
   "cell_type": "code",
   "execution_count": 158,
   "metadata": {},
   "outputs": [
    {
     "name": "stdin",
     "output_type": "stream",
     "text": [
      "send a message for our bot >:) cuanto me costaria pagar un depto en providencia de 2500uf en 25 años si gano 2 millones\n"
     ]
    }
   ],
   "source": [
    "from openai import OpenAI\n",
    "from dotenv import load_dotenv\n",
    "import os\n",
    "import json\n",
    "from json_gen import make_json\n",
    "load_dotenv()\n",
    "\n",
    "#api_key_openai = os.getenv(\"API_KEY_OPENAI\")\n",
    "client = OpenAI(api_key=api_key_openai)\n",
    "\n",
    "\n",
    "message = input(\"send a message for our bot >:)\")\n",
    "completion = client.chat.completions.create(\n",
    "  model=\"gpt-4o\",\n",
    "  messages=[{\n",
    "      \"role\": \"system\",\n",
    "      \"content\": sys_prompt,\n",
    "  },\n",
    "      {\"role\": \"user\", \"content\": message}],\n",
    "\n",
    "  tools=tools,\n",
    ")\n",
    "calls = completion.choices[0].message.tool_calls\n",
    "arguments = json.loads(calls[0].function.arguments)\n"
   ]
  },
  {
   "cell_type": "code",
   "execution_count": 156,
   "metadata": {},
   "outputs": [
    {
     "name": "stdout",
     "output_type": "stream",
     "text": [
      "Financiar\n"
     ]
    }
   ],
   "source": [
    "print(arguments['intent'])"
   ]
  },
  {
   "cell_type": "code",
   "execution_count": 162,
   "metadata": {},
   "outputs": [
    {
     "name": "stdout",
     "output_type": "stream",
     "text": [
      "<class 'dict'>\n"
     ]
    }
   ],
   "source": [
    "print(type(arguments))"
   ]
  },
  {
   "cell_type": "code",
   "execution_count": 96,
   "metadata": {},
   "outputs": [
    {
     "name": "stdout",
     "output_type": "stream",
     "text": [
      "[Choice(finish_reason='tool_calls', index=0, logprobs=None, message=ChatCompletionMessage(content=None, refusal=None, role='assistant', audio=None, function_call=None, tool_calls=[ChatCompletionMessageToolCall(id='call_2rsglpNwzyhdyMvSR1A12LYa', function=Function(arguments='{\"search\":\"Hola, quiero arrendar un departamento en la Serena que sea con 3 dormitorios y dos baños, hata 450 mil pesos chilenos, con una superficie de 50 a 100 metros cuadrados\",\"customResponse\":\"Entendido, estoy buscando departamentos para arrendar en La Serena con 3 dormitorios, 2 baños, por hasta 450 mil pesos, y con una superficie de 50 a 100 metros cuadrados.\",\"intent\":\"Buscar propiedad\",\"workflow\":\"Buscar\",\"region\":\"Región de Coquimbo\",\"city\":\"La Serena\",\"response\":[{\"key\":\"commune\",\"value\":\"La Serena\"},{\"key\":\"region\",\"value\":\"Región de Coquimbo\"},{\"key\":\"typeOfOperation\",\"value\":\"Arriendo\"},{\"key\":\"typeOfProperty\",\"value\":\"Departamento\"},{\"key\":\"bedrooms\",\"value\":\"3\"},{\"key\":\"bathrooms\",\"value\":\"2\"},{\"key\":\"priceMax\",\"value\":\"450000\"},{\"key\":\"area\",\"value\":\"50 a 100 metros cuadrados\"}],\"questions\":[],\"isFinished\":true}', name='get_properties'), type='function')]))]\n"
     ]
    }
   ],
   "source": [
    "print(completion.choices)"
   ]
  },
  {
   "cell_type": "code",
   "execution_count": 106,
   "metadata": {},
   "outputs": [],
   "source": [
    "fun_dict={\"get_properties\": get_properties, \"make_json\": make_json}\n"
   ]
  },
  {
   "cell_type": "code",
   "execution_count": 109,
   "metadata": {
    "scrolled": true
   },
   "outputs": [
    {
     "name": "stdout",
     "output_type": "stream",
     "text": [
      "{\"status\":\"ok\",\"statusCode\":200,\"message\":\"\",\"docs\":[],\"limit\":7,\"page\":1,\"totalDocs\":0,\"totalPages\":1}\n"
     ]
    },
    {
     "data": {
      "text/plain": [
       "[]"
      ]
     },
     "execution_count": 109,
     "metadata": {},
     "output_type": "execute_result"
    }
   ],
   "source": [
    "get_properties(arguments['city'], arguments['region'])"
   ]
  },
  {
   "cell_type": "code",
   "execution_count": 111,
   "metadata": {},
   "outputs": [
    {
     "name": "stdout",
     "output_type": "stream",
     "text": [
      "[ChatCompletionMessageToolCall(id='call_B33XB9xKCnrnPZly1KS3B1sV', function=Function(arguments='{\"city\":\"Estación Central\",\"region\":\"Región Metropolitana de Santiago\",\"search\":\"quiero una casa en santiago, estacion central\",\"customResponse\":\"Entendido, estoy buscando propiedades en Estación Central, Santiago.\",\"intent\":\"Buscar propiedad\",\"workflow\":\"Buscar\",\"response\":[{\"key\":\"commune\",\"value\":\"Estación Central\"},{\"key\":\"region\",\"value\":\"Región Metropolitana de Santiago\"},{\"key\":\"typeOfProperty\",\"value\":\"Casa\"}],\"questions\":[{\"key\":\"priceMax\",\"value\":false}],\"isFinished\":false}', name='get_properties'), type='function')]\n"
     ]
    }
   ],
   "source": [
    "print(completion.choices[0].message.tool_calls)"
   ]
  },
  {
   "cell_type": "code",
   "execution_count": 112,
   "metadata": {},
   "outputs": [
    {
     "data": {
      "text/plain": [
       "'{\"search\": {\"city\": \"Estaci\\\\u00f3n Central\", \"region\": \"Regi\\\\u00f3n Metropolitana de Santiago\", \"search\": \"quiero una casa en santiago, estacion central\", \"customResponse\": \"Entendido, estoy buscando propiedades en Estaci\\\\u00f3n Central, Santiago.\", \"intent\": \"Buscar propiedad\", \"workflow\": \"Buscar\", \"response\": [{\"key\": \"commune\", \"value\": \"Estaci\\\\u00f3n Central\"}, {\"key\": \"region\", \"value\": \"Regi\\\\u00f3n Metropolitana de Santiago\"}, {\"key\": \"typeOfProperty\", \"value\": \"Casa\"}], \"questions\": [{\"key\": \"priceMax\", \"value\": false}], \"isFinished\": false}, \"customResponse\": \"\", \"intent\": \"\", \"workflow\": \"\", \"response\": [], \"questions\": []}'"
      ]
     },
     "execution_count": 112,
     "metadata": {},
     "output_type": "execute_result"
    }
   ],
   "source": [
    "make_json(arguments)"
   ]
  },
  {
   "cell_type": "code",
   "execution_count": 118,
   "metadata": {},
   "outputs": [
    {
     "data": {
      "text/plain": [
       "'Entendido, estoy buscando propiedades en Estación Central, Santiago.'"
      ]
     },
     "execution_count": 118,
     "metadata": {},
     "output_type": "execute_result"
    }
   ],
   "source": [
    "# this has to be sent as the first message\n",
    "arguments['customResponse']"
   ]
  },
  {
   "cell_type": "code",
   "execution_count": 122,
   "metadata": {},
   "outputs": [
    {
     "name": "stdout",
     "output_type": "stream",
     "text": [
      "{\"status\":\"ok\",\"statusCode\":200,\"message\":\"\",\"docs\":[],\"limit\":7,\"page\":1,\"totalDocs\":0,\"totalPages\":1}\n",
      "[]\n"
     ]
    }
   ],
   "source": [
    "# message to be send to the customer if city and region are present\n",
    "message = \"Los resultados de su busqueda son:\"\n",
    "result = get_properties(arguments['city'], arguments['region'])\n",
    "print(result)"
   ]
  },
  {
   "cell_type": "code",
   "execution_count": null,
   "metadata": {},
   "outputs": [],
   "source": []
  }
 ],
 "metadata": {
  "kernelspec": {
   "display_name": "Python 3 (ipykernel)",
   "language": "python",
   "name": "python3"
  },
  "language_info": {
   "codemirror_mode": {
    "name": "ipython",
    "version": 3
   },
   "file_extension": ".py",
   "mimetype": "text/x-python",
   "name": "python",
   "nbconvert_exporter": "python",
   "pygments_lexer": "ipython3",
   "version": "3.13.1"
  }
 },
 "nbformat": 4,
 "nbformat_minor": 2
}
