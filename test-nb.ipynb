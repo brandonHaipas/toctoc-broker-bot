{
 "cells": [
  {
   "cell_type": "markdown",
   "metadata": {},
   "source": [
    "# Test Notebook"
   ]
  },
  {
   "cell_type": "code",
   "execution_count": null,
   "metadata": {},
   "outputs": [],
   "source": [
    "notebook for testing the toctoc api and prompts for gpt"
   ]
  },
  {
   "cell_type": "code",
   "execution_count": null,
   "metadata": {},
   "outputs": [],
   "source": [
    "from openai import OpenAI\n",
    "from dotenv import load_dotenv\n",
    "import os\n",
    "import json\n",
    "load_dotenv()\n",
    "\n",
    "api_key = os.getenv('API_KEY')\n",
    "client = OpenAI(api_key=api_key)\n",
    "\n",
    "tools = [\n",
    "  {\n",
    "      \"type\": \"function\",\n",
    "      \"function\": {\n",
    "\n",
    "          \"name\": \"get_highlighted_properties\",\n",
    "          \"parameters\": {\n",
    "              \"type\": \"object\",\n",
    "              \"properties\": {\n",
    "                  \"number_of_properties\": {\"type\": \"string\",\n",
    "                                           \"description\": \"Number of properties to be returned by this function. Up to 8 properties per type of property.\"},\n",
    "                  \"type_of_property\":{\"type\": \"string\",\n",
    "                                      \"description\": \"This property can either be 'usada', 'nueva' or 'arriendo'\"},\n",
    "              },\n",
    "              \"additionalProperties\": False,\n",
    "          },\n",
    "      },\n",
    "  }\n",
    "]\n",
    "message = input(\"send a message for our bot >:)\")\n",
    "completion = client.chat.completions.create(\n",
    "  model=\"gpt-4o\",\n",
    "  messages=[{\n",
    "      \"role\": \"system\",\n",
    "      \"content\": \"You are a helpful customer support assistant for the TOCTOC site. Use the supplied tools to assist the user.\"\n",
    "  },\n",
    "      {\"role\": \"user\", \"content\": message}],\n",
    "\n",
    "  tools=tools,\n",
    ")\n",
    "calls = completion.choices[0].message.tool_calls\n",
    "arguments = json.loads(calls[0].function.arguments)"
   ]
  }
 ],
 "metadata": {
  "kernelspec": {
   "display_name": "venv",
   "language": "python",
   "name": "python3"
  },
  "language_info": {
   "name": "python",
   "version": "3.11.0"
  }
 },
 "nbformat": 4,
 "nbformat_minor": 2
}
