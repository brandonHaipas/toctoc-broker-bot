{
 "cells": [
  {
   "cell_type": "markdown",
   "metadata": {},
   "source": [
    "# Test Notebook"
   ]
  },
  {
   "cell_type": "markdown",
   "metadata": {},
   "source": [
    "notebook for testing the toctoc api and prompts for gpt"
   ]
  },
  {
   "cell_type": "code",
   "execution_count": 64,
   "metadata": {
    "scrolled": true
   },
   "outputs": [
    {
     "name": "stdout",
     "output_type": "stream",
     "text": [
      "The dotenv extension is already loaded. To reload it, use:\n",
      "  %reload_ext dotenv\n",
      "{\"status\":\"ok\",\"statusCode\":200,\"message\":\"\",\"docs\":[{\"_id\":\"6774f7978b2ddfa7e911a581\",\"address\":{\"lat\":-33.4187,\"long\":-70.5855,\"communeName\":\"Las Condes\",\"street\":\"Townhouse proyecto Net Zero en Málaga, El Golf  \"},\"area\":{\"balcony\":0,\"constructed\":0,\"land\":231.4,\"usable\":163.4},\"distance\":353.2404633197919,\"operationFamily\":\"Venta Usado\",\"propertyFamilyType\":\"Casas\",\"price\":24490,\"salableArea\":163.4,\"ufm2\":149.87760097919215,\"publicationDate\":\"2024-12-16T00:00:00.000Z\"},{\"_id\":\"6774f7978b2ddfa7e911a57f\",\"address\":{\"lat\":-33.4189,\"long\":-70.5867,\"communeName\":\"Las Condes\",\"street\":\"Moderno y vanguardista Townhouse en El Golf  \"},\"area\":{\"balcony\":0,\"constructed\":0,\"land\":233.1,\"usable\":174.38},\"distance\":280.5717238235065,\"operationFamily\":\"Venta Usado\",\"propertyFamilyType\":\"Casas\",\"price\":24800,\"salableArea\":174.38,\"ufm2\":142.21814428260123,\"publicationDate\":\"2024-12-16T00:00:00.000Z\"},{\"_id\":\"6774f7e38b2ddfa7e912027a\",\"address\":{\"lat\":-33.4156931,\"long\":-70.5852874,\"communeName\":\"Las Condes\",\"street\":\"ASTURIAS. CERCA DEL METRO ESCUELA MILITAR 0 \"},\"area\":{\"balcony\":10,\"constructed\":100,\"land\":110,\"usable\":0},\"distance\":354.55435683878,\"operationFamily\":\"Venta Usado\",\"propertyFamilyType\":\"Casas\",\"price\":5000,\"salableArea\":100,\"ufm2\":50,\"publicationDate\":\"2024-12-11T00:00:00.000Z\"},{\"_id\":\"6774f7e38b2ddfa7e91200b4\",\"address\":{\"lat\":-33.4173661,\"long\":-70.5847604,\"communeName\":\"Las Condes\",\"street\":\"ASTURIAS 0 \"},\"area\":{\"balcony\":8,\"constructed\":60,\"land\":70,\"usable\":0},\"distance\":371.7799127635532,\"operationFamily\":\"Venta Usado\",\"propertyFamilyType\":\"Casas\",\"price\":2200,\"salableArea\":60,\"ufm2\":36.666666666666664,\"publicationDate\":\"2024-12-10T00:00:00.000Z\"},{\"_id\":\"6774f7e38b2ddfa7e911fe00\",\"address\":{\"lat\":-33.4157361,\"long\":-70.5857595,\"communeName\":\"Las Condes\",\"street\":\"ASTURIAS. CERCA DEL METRO ESCUELA MILITAR 0 \"},\"area\":{\"balcony\":10,\"constructed\":100,\"land\":110,\"usable\":0},\"distance\":313.12449591265965,\"operationFamily\":\"Venta Usado\",\"propertyFamilyType\":\"Casas\",\"price\":2200,\"salableArea\":100,\"ufm2\":22,\"publicationDate\":\"2024-12-09T00:00:00.000Z\"},{\"_id\":\"6774f7d78b2ddfa7e911fa73\",\"address\":{\"lat\":-33.4161875,\"long\":-70.5856307,\"communeName\":\"Las Condes\",\"street\":\"ASTURIAS. CERCA DEL METRO ESCUELA MILITAR 0 \"},\"area\":{\"balcony\":5,\"constructed\":60,\"land\":65,\"usable\":0},\"distance\":304.4963634954905,\"operationFamily\":\"Venta Usado\",\"propertyFamilyType\":\"Casas\",\"price\":2200,\"salableArea\":60,\"ufm2\":36.666666666666664,\"publicationDate\":\"2024-12-06T00:00:00.000Z\"},{\"_id\":\"6774f7808b2ddfa7e91181c8\",\"address\":{\"lat\":-33.4193672,\"long\":-70.58952289999999,\"communeName\":\"Las Condes\",\"street\":\"Presidente Errazuriz/ Gertrudis Echeñique/ VERBO DIVINO/ VILLA MARIA - -\"},\"area\":{\"balcony\":30,\"constructed\":0,\"land\":236,\"usable\":170},\"distance\":268.5763865573112,\"operationFamily\":\"Venta Usado\",\"propertyFamilyType\":\"Casas\",\"price\":23300,\"salableArea\":170,\"ufm2\":137.05882352941177,\"publicationDate\":\"2024-12-06T00:00:00.000Z\"}],\"limit\":7,\"page\":1,\"totalDocs\":192,\"totalPages\":28}\n"
     ]
    }
   ],
   "source": [
    "%load_ext dotenv\n",
    "%dotenv\n",
    "%run db.ipynb\n",
    "%run download_json.ipynb"
   ]
  },
  {
   "cell_type": "code",
   "execution_count": 65,
   "metadata": {},
   "outputs": [],
   "source": [
    "etapa_1_json = {\n",
    "    \"search\": \"Quiero buscar una propiedad\",   \n",
    "} \n",
    "etapa_2_json = {\n",
    "    \"search\": \"Quiero buscar una propiedad\",\n",
    "    \"customResponse\": \"\",\n",
    "    \"intent\": \"Buscar propiedad\",\n",
    "    \"workflow\": \"Buscar\",\n",
    "    \"response\": [\n",
    "        {\"key\": \"commune\", \"value\": \"\"},\n",
    "        {\"key\": \"region\", \"value\": \"\"},\n",
    "        {\"key\": \"typeOfProperty\", \"value\": \"\"},\n",
    "        {\"key\": \"typeOfOperation\", \"value\": \"\"},\n",
    "        {\"key\": \"bedrooms\", \"value\": \"\"},\n",
    "        {\"key\": \"bathrooms\", \"value\": \"\"},\n",
    "        {\"key\": \"parking\", \"value\": \"\"},\n",
    "        {\"key\": \"storage\", \"value\": \"\"},\n",
    "        {\"key\": \"area\", \"value\": \"\"},\n",
    "        {\"key\": \"priceMax\", \"value\": \"\"},\n",
    "        {\"key\": \"priceMin\", \"value\": \"\"},\n",
    "        {\"key\": \"petFriendly\", \"value\": \"\"}\n",
    "    ],\n",
    "    \"questions\": [{\"key\": \"\", \"value\": \"bool\"}]\n",
    "} \n",
    "\n",
    "etapa_3_json = {\n",
    "    \"search\": \"Quiero buscar una propiedad\",\n",
    "    \"customResponse\": \"\",\n",
    "    \"intent\": \"Buscar propiedad\",\n",
    "    \"workflow\": \"Buscar\",\n",
    "    \"response\": [\n",
    "        {\"key\": \"commune\", \"value\": \"\"},\n",
    "        {\"key\": \"region\", \"value\": \"\"},\n",
    "        {\"key\": \"typeOfProperty\", \"value\": \"\"},\n",
    "        {\"key\": \"typeOfOperation\", \"value\": \"\"},\n",
    "        {\"key\": \"bedrooms\", \"value\": \"\"},\n",
    "        {\"key\": \"bathrooms\", \"value\": \"\"},\n",
    "        {\"key\": \"parking\", \"value\": \"\"},\n",
    "        {\"key\": \"storage\", \"value\": \"\"},\n",
    "        {\"key\": \"area\", \"value\": \"\"},\n",
    "        {\"key\": \"priceMax\", \"value\": \"\"},\n",
    "        {\"key\": \"priceMin\", \"value\": \"\"},\n",
    "        {\"key\": \"petFriendly\", \"value\": \"\"}\n",
    "    ],\n",
    "    \"questions\": [\n",
    "        {\"key\": \"commune\", \"value\": True},\n",
    "        {\"key\": \"region\", \"value\": True},\n",
    "        {\"key\": \"typeOfProperty\", \"value\": True},\n",
    "        {\"key\": \"typeOfOperation\", \"value\": True},\n",
    "        {\"key\": \"bedrooms\", \"value\": True},\n",
    "        {\"key\": \"bathrooms\", \"value\": True},\n",
    "        {\"key\": \"parking\", \"value\": True},\n",
    "        {\"key\": \"storage\", \"value\": True},\n",
    "        {\"key\": \"area\", \"value\": True},\n",
    "        {\"key\": \"priceMax\", \"value\": True},\n",
    "        {\"key\": \"priceMin\", \"value\": True},\n",
    "        {\"key\": \"petFriendly\", \"value\": True}\n",
    "    ]\n",
    "} "
   ]
  },
  {
   "cell_type": "code",
   "execution_count": 66,
   "metadata": {},
   "outputs": [],
   "source": [
    "sys_prompt = \"\"\"\n",
    "You are a helpful customer support assistant for the TOCTOC site. Your role is to assist customers effectively by using the provided tools and determining their intent.\n",
    "\n",
    "### Objectives:\n",
    "1. **Determine Customer Intent**: Identify whether the customer's goal is:\n",
    "   - 'Buscar propiedad' (Search for a property)\n",
    "   - 'Tasar propiedad' (Value a property)\n",
    "   - 'Financiar' (Finance a property)\n",
    "\n",
    "2. **Provide Assistance Based on Intent**:\n",
    "   - If the intent is **'Buscar propiedad'**:\n",
    "     - Narrow down the search as much as possible based on customer-provided information.\n",
    "     - Use the `get_properties` function to retrieve properties based on the provided attributes, such as region, commune, and other filters. Ensure the search is specific and relevant to the user's needs.\n",
    "   - If the intent is **'Tasar propiedad'** or **'Financiar'**:\n",
    "     - Use the relevant tools and functions to assist with the task, ensuring the required arguments are provided.\n",
    "\n",
    "3. **Handle Region and Commune Parameters**:\n",
    "   - If the user provides a **commune** or **city**, and you can derive the corresponding region:\n",
    "     - Immediately call the `get_properties` function with the parameters.\n",
    "\n",
    "4. **Generate JSON Responses**:\n",
    "   - Always use the `make_json` function to format your responses.\n",
    "   - If the conversation is complete, save the JSON file using the `download_json` function.\n",
    "\n",
    "### Rules:\n",
    "- Always confirm the user's intent explicitly before proceeding with any actions.\n",
    "- Ask follow-up questions to refine search parameters or gather necessary details for tasks.\n",
    "- Avoid unnecessary actions or calls if insufficient information is provided.\n",
    "\n",
    "### Example Interactions:\n",
    "#### Example 1: Searching for a Property\n",
    "**Customer**: \"I'm looking for a property to rent in Santiago.\"\n",
    "**Assistant**: Identifies intent as 'Buscar propiedad', extracts 'Santiago' as the commune, determines the region, and calls `get_properties`.\n",
    "\n",
    "#### Example 2: Valuing a Property\n",
    "**Customer**: \"I want to know how much my house in Viña del Mar is worth.\"\n",
    "**Assistant**: Identifies intent as 'Tasar propiedad' and uses the provided tools to assist.\n",
    "\n",
    "#### Example 3: Financing\n",
    "**Customer**: \"Can you help me finance a property?\"\n",
    "**Assistant**: Identifies intent as 'Financiar' and collects necessary details to proceed with the task.\n",
    "\n",
    "---\n",
    "\n",
    "Focus on providing clear, concise, and helpful responses while adhering to these guidelines.\n",
    "\n",
    "      \"\"\""
   ]
  },
  {
   "cell_type": "code",
   "execution_count": 58,
   "metadata": {},
   "outputs": [],
   "source": [
    "tools = [\n",
    "  {\n",
    "      \"type\": \"function\",\n",
    "      \"function\": {\n",
    "\n",
    "          \"name\": \"get_properties\",\n",
    "          \"parameters\": {\n",
    "              \"type\": \"object\",\n",
    "              \"properties\": {\n",
    "                  \"city\": {\"type\": \"string\",\n",
    "                                           \"description\": \"commune specified by customer.\"},\n",
    "                  \"region\":{\"type\": \"string\",\n",
    "                            \"enum\":[\n",
    "                                 \"Región de Arica y Parinacota\",\n",
    "                                \"Región de Tarapacá\",\n",
    "                                \"Región de Antofagasta\",\n",
    "                                \"Región de Atacama\",\n",
    "                                \"Región de Coquimbo\",\n",
    "                                \"Región de Valparaíso\",\n",
    "                                \"Región Metropolitana de Santiago\",\n",
    "                                \"Región del Libertador Gral. Bernardo O'Higgins\",\n",
    "                                \"Región del Maule\",\n",
    "                                \"Región de Ñuble\",\n",
    "                                \"Región del Biobío\",\n",
    "                                \"Región de La Araucanía\",\n",
    "                                \"Región de Los Ríos\",\n",
    "                                \"Región de Los Lagos\",\n",
    "                                \"Región Aysén del G. Carlos Ibáñez del Campo\",\n",
    "                                \"Región de Magallanes y de la Antártica Chilena\"\n",
    "                            ],\n",
    "                                      \"description\": \"Geographical Region, if not specified provide the region that you think the customer is refferring to. Remeber, regions of Chile\"},\n",
    "    \n",
    "              },\n",
    "              \"additionalProperties\": False,\n",
    "          },\n",
    "      },\n",
    "  },\n",
    "  {\n",
    "      \"type\": \"function\",\n",
    "      \"function\": {\n",
    "\n",
    "          \"name\": \"make_json\",\n",
    "          \"parameters\": {\n",
    "              \"type\": \"object\",\n",
    "              \"properties\": {\n",
    "                  \"search\": {\"type\": \"string\",\n",
    "                                           \"description\": \"Is the lattest message submited by the user\"},\n",
    "                  \"customResponse\": {\n",
    "                      \"type\": \"string\",\n",
    "                      \"description\": \"Latest message sent by the bot.\"\n",
    "                  },\n",
    "                  \"intent\":{\n",
    "                      \"type\": \"string\",\n",
    "                      \"description\": \"The intent of the customer in this conversation, it can be 'Buscar propiedad', 'Financiar' or 'Tasar propiedad\"\n",
    "                  },\n",
    "                  \"workflow\": {\n",
    "                      \"type\":\"string\",\n",
    "                      \"description\": \"Simpler version of intent, for the intent 'Buscar propiedad' is 'Buscar', for 'Financiar' is 'Hipotecario and for 'Tasar propiedad' is 'Tasar'.\"\n",
    "                  },\n",
    "                  \"response\":{\n",
    "                      \"type\": \"array\",\n",
    "                      \"items\":{ \"type\":  \"object\",\n",
    "                              \"properties\":{\n",
    "                                  \"key\":{\"type\":\"string\",\n",
    "                                         \"enum\": [\n",
    "                                            \"commune\",\n",
    "                                            \"region\",\n",
    "                                            \"typeOfProperty\",\n",
    "                                            \"typeOfOperation\",\n",
    "                                            \"bedrooms\",\n",
    "                                            \"bathrooms\",\n",
    "                                            \"parking\",\n",
    "                                            \"storage\",\n",
    "                                            \"area\",\n",
    "                                            \"priceMax\",\n",
    "                                            \"priceMin\",\n",
    "                                            \"petFriendly\",\n",
    "                                            ]},\n",
    "                                  \"value\":{\"type\":\"string\"}}},\n",
    "                      \"description\": \"Each element has a dictionary with a 'key' as an attribute and a 'value' parameter, that is the value for the key. For example: \\\n",
    "                          {'key': 'commune', 'value': 'Huechuraba'}\"\n",
    "                      },\n",
    "                  \"questions\":{\n",
    "                      \"type\": \"array\",\n",
    "                      \"items\":{ \"type\":  \"object\",\n",
    "                              \"properties\":{\n",
    "                                  \"key\":{\"type\":\"string\",\n",
    "                                         \"enum\": [\n",
    "                                            \"commune\",\n",
    "                                            \"region\",\n",
    "                                            \"typeOfProperty\",\n",
    "                                            \"typeOfOperation\",\n",
    "                                            \"bedrooms\",\n",
    "                                            \"bathrooms\",\n",
    "                                            \"parking\",\n",
    "                                            \"storage\",\n",
    "                                            \"area\",\n",
    "                                            \"priceMax\",\n",
    "                                            \"priceMin\",\n",
    "                                            \"petFriendly\",\n",
    "                                            ]},\n",
    "                                  \"value\":{\"type\":\"boolean\"}}},\n",
    "                      \"description\": \"Each element has a dictionary with a 'key' as an attribute and a 'value' parameter is true if the response has a value o either \\\n",
    "                          is false if it has an empty string. For example: \\\n",
    "                          {'key': 'commune', 'value': true} \\\n",
    "                          or if in response does not have a value for commune,h it would be:\\\n",
    "                          {'key': 'commune', 'value': false}\"\n",
    "                  }\n",
    "              },\n",
    "              \"additionalProperties\": False,\n",
    "          },\n",
    "      },\n",
    "  },\n",
    "     {\"type\": \"function\",\n",
    "      \"function\": {\n",
    "\n",
    "          \"name\": \"download_json\",\n",
    "          \"parameters\": {\n",
    "              },\n",
    "              \"additionalProperties\": False,\n",
    "          },\n",
    "      },\n",
    "  \n",
    "]"
   ]
  },
  {
   "cell_type": "code",
   "execution_count": null,
   "metadata": {},
   "outputs": [],
   "source": [
    "from openai import OpenAI\n",
    "from dotenv import load_dotenv\n",
    "import os\n",
    "import json\n",
    "from json_gen import make_json\n",
    "load_dotenv()\n",
    "\n",
    "api_key_openai = os.getenv('API_KEY_OPENAI')\n",
    "client = OpenAI(api_key=api_key_openai)\n",
    "\n",
    "\n",
    "message = input(\"send a message for our bot >:)\")\n",
    "completion = client.chat.completions.create(\n",
    "  model=\"gpt-4o\",\n",
    "  messages=[{\n",
    "      \"role\": \"system\",\n",
    "      \"content\": sys_prompt,\n",
    "  },\n",
    "      {\"role\": \"user\", \"content\": message}],\n",
    "\n",
    "  tools=tools,\n",
    ")\n",
    "calls = completion.choices[0].message.tool_calls\n",
    "arguments = json.loads(calls[0].function.arguments)\n"
   ]
  },
  {
   "cell_type": "code",
   "execution_count": 63,
   "metadata": {},
   "outputs": [
    {
     "name": "stdout",
     "output_type": "stream",
     "text": [
      "[ChatCompletionMessageToolCall(id='call_lXxL8c8MpItrw4I8nyxXkTO1', function=Function(arguments='{\"city\":\"La Serena\",\"region\":\"Región de Coquimbo\"}', name='get_properties'), type='function')]\n"
     ]
    }
   ],
   "source": [
    "print(calls)"
   ]
  },
  {
   "cell_type": "code",
   "execution_count": 61,
   "metadata": {},
   "outputs": [
    {
     "name": "stdout",
     "output_type": "stream",
     "text": [
      "{'city': 'La Serena', 'region': 'Región de Coquimbo'}\n"
     ]
    }
   ],
   "source": [
    "print(arguments)"
   ]
  },
  {
   "cell_type": "code",
   "execution_count": 62,
   "metadata": {},
   "outputs": [
    {
     "name": "stdout",
     "output_type": "stream",
     "text": [
      "[Choice(finish_reason='tool_calls', index=0, logprobs=None, message=ChatCompletionMessage(content='Para confirmar, estás interesado en \"Buscar propiedad\" para arrendar un departamento en La Serena. Permíteme buscar las opciones disponibles para ti con los siguientes criterios:\\n\\n- Ubicación: La Serena, Región de Coquimbo\\n- Tipo de propiedad: Departamento\\n- Operación: Arriendo\\n- Dormitorios: 3\\n- Baños: 2\\n- Precio máximo: 450,000 CLP\\n- Superficie: 50 a 100 m²\\n\\nVoy a buscar esta información y volveré enseguida.', refusal=None, role='assistant', audio=None, function_call=None, tool_calls=[ChatCompletionMessageToolCall(id='call_lXxL8c8MpItrw4I8nyxXkTO1', function=Function(arguments='{\"city\":\"La Serena\",\"region\":\"Región de Coquimbo\"}', name='get_properties'), type='function')]))]\n"
     ]
    }
   ],
   "source": [
    "print(completion.choices)"
   ]
  },
  {
   "cell_type": "code",
   "execution_count": null,
   "metadata": {},
   "outputs": [],
   "source": []
  }
 ],
 "metadata": {
  "kernelspec": {
   "display_name": "Python 3 (ipykernel)",
   "language": "python",
   "name": "python3"
  },
  "language_info": {
   "codemirror_mode": {
    "name": "ipython",
    "version": 3
   },
   "file_extension": ".py",
   "mimetype": "text/x-python",
   "name": "python",
   "nbconvert_exporter": "python",
   "pygments_lexer": "ipython3",
   "version": "3.13.1"
  }
 },
 "nbformat": 4,
 "nbformat_minor": 2
}
