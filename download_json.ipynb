{
 "cells": [
  {
   "cell_type": "code",
   "execution_count": null,
   "id": "56d7d5f7-9f4a-44ec-9523-5ab46270c585",
   "metadata": {},
   "outputs": [],
   "source": [
    "import json\n",
    "import os\n",
    "\n",
    "def download_json(j):\n",
    "    this_folder = os.path.dirname(os.path.abspath(__file__))\n",
    "    this_file = os.path.join(this_folder, 'result.json')\n",
    "\n",
    "    with open(this_file, \"w\") as json_file:\n",
    "        json.dump(j, json_file, indent=4)\n",
    "        \n",
    "    return None\n",
    "    "
   ]
  }
 ],
 "metadata": {
  "kernelspec": {
   "display_name": "Python 3 (ipykernel)",
   "language": "python",
   "name": "python3"
  },
  "language_info": {
   "codemirror_mode": {
    "name": "ipython",
    "version": 3
   },
   "file_extension": ".py",
   "mimetype": "text/x-python",
   "name": "python",
   "nbconvert_exporter": "python",
   "pygments_lexer": "ipython3",
   "version": "3.13.1"
  }
 },
 "nbformat": 4,
 "nbformat_minor": 5
}
